{
  "nbformat": 4,
  "nbformat_minor": 0,
  "metadata": {
    "colab": {
      "provenance": []
    },
    "kernelspec": {
      "name": "python3",
      "display_name": "Python 3"
    },
    "language_info": {
      "name": "python"
    }
  },
  "cells": [
    {
      "cell_type": "code",
      "source": [
        "import os\n",
        "from pinecone import Pinecone, ServerlessSpec\n",
        "from transformers import AutoTokenizer, AutoModelForQuestionAnswering\n",
        "import torch\n",
        "import numpy as np\n",
        "\n",
        "pc = Pinecone(api_key=\"pcsk_2MT8co_AKcwXceTQng82iSZagaJMWa96bcx2bWgJ8wLwutPp7nmbKJYDBkz5gJxnu2PXZH\")\n",
        "\n",
        "index_name = \"business-qa-index\"\n",
        "if index_name not in pc.list_indexes().names():\n",
        "    pc.create_index(\n",
        "        name=index_name,\n",
        "        dimension=768,\n",
        "        metric=\"cosine\",\n",
        "        spec=ServerlessSpec(cloud=\"aws\", region=\"us-east-1\")\n",
        "    )\n",
        "\n",
        "tokenizer = AutoTokenizer.from_pretrained(\"deepset/roberta-base-squad2\")\n",
        "model = AutoModelForQuestionAnswering.from_pretrained(\"deepset/roberta-base-squad2\")\n",
        "\n",
        "index = pc.Index(index_name)\n",
        "\n",
        "def generate_vector(text):\n",
        "    inputs = tokenizer(text, return_tensors=\"pt\", truncation=True, padding=True)\n",
        "    with torch.no_grad():\n",
        "        outputs = model.roberta(**inputs)\n",
        "    embeddings = outputs.last_hidden_state.mean(dim=1).squeeze().numpy()\n",
        "    return embeddings.tolist()\n",
        "\n",
        "predefined_qa = [\n",
        "    {\"question\": \"What services does Yardstick Software Solutions provide?\", \"answer\": \"Yardstick Software Solutions offers customized software solutions including app development, data analytics, and cloud services.\"},\n",
        "    {\"question\": \"What industries do you serve?\", \"answer\": \"We serve healthcare, retail, finance, logistics, education, and manufacturing sectors.\"},\n",
        "    {\"question\": \"Do you offer support after development?\", \"answer\": \"Yes, we provide ongoing support and maintenance for our solutions.\"},\n",
        "    {\"question\": \"What is the timeline for custom software development?\", \"answer\": \"The timeline depends on the project complexity, ranging from weeks to months.\"},\n",
        "    {\"question\": \"How can I get started with your services?\", \"answer\": \"To get started, contact us via our website, schedule a consultation, and we'll provide a proposal.\"},\n",
        "    {\"question\": \"Do you offer ERP solutions?\", \"answer\": \"Yes, we offer ERP solutions tailored to your business needs.\"},\n",
        "    {\"question\": \"What makes Yardstick Software Solutions different?\", \"answer\": \"What sets us apart is our client-focused approach, industry expertise, and commitment to delivering scalable, high-quality solutions.\"},\n",
        "    {\"question\": \"What are your cloud service offerings?\", \"answer\": \"We offer cloud services with platforms like AWS and Azure, ensuring scalability and secure infrastructure.\"},\n",
        "    {\"question\": \"Do you develop mobile apps?\", \"answer\": \"Yes, we develop mobile applications for both iOS and Android, tailored to your business requirements.\"},\n",
        "    {\"question\": \"How do you ensure software quality?\", \"answer\": \"We ensure software quality through rigorous testing (unit, integration, UAT) and agile development for iterative improvements.\"}\n",
        "]\n",
        "\n",
        "def index_data(corpus):\n",
        "    for i, doc in enumerate(corpus):\n",
        "        vector = generate_vector(doc[\"question\"])\n",
        "        assert isinstance(vector, list), \"Vector should be a list\"\n",
        "        assert all(isinstance(val, float) for val in vector), \"All values in the vector should be floats\"\n",
        "        index.upsert([(f\"qa-{i}\", vector, {\"question\": doc[\"question\"], \"answer\": doc[\"answer\"]})])\n",
        "\n",
        "def get_answer(query):\n",
        "    query_vector = generate_vector(query)\n",
        "    result = index.query(vector=query_vector, top_k=1)\n",
        "\n",
        "    if result[\"matches\"]:\n",
        "        doc_id = result[\"matches\"][0][\"id\"]\n",
        "        doc = predefined_qa[int(doc_id.split('-')[1])]\n",
        "        return doc[\"answer\"]\n",
        "    else:\n",
        "        return \"Sorry, I couldn't find an answer to your question.\"\n",
        "\n",
        "index_data(predefined_qa)\n",
        "\n",
        "def is_greeting(user_input):\n",
        "    greeting_keywords = [\"hello\", \"hi\", \"hey\", \"greetings\", \"morning\", \"evening\", \"good day\"]\n",
        "    user_input_lower = user_input.lower()\n",
        "    return any(greeting in user_input_lower for greeting in greeting_keywords)\n",
        "\n",
        "def get_phone_number():\n",
        "    while True:\n",
        "        phone_number = input(\"Please enter your phone number: \")\n",
        "        if phone_number.isdigit() and len(phone_number) == 10:\n",
        "            print(\"Thank you for providing your phone number.\")\n",
        "            break\n",
        "        else:\n",
        "            print(\"Please enter a valid 10-digit phone number.\")\n",
        "\n",
        "def ask_question():\n",
        "    print(\"Welcome to Yardstick Software Solutions.\")\n",
        "    while True:\n",
        "        user_input = input(\"You are connected to a Bot Agent, Type Your Query! \")\n",
        "\n",
        "        if user_input.lower() == 'exit':\n",
        "            print(\"Goodbye!\")\n",
        "            break\n",
        "\n",
        "        if is_greeting(user_input):\n",
        "            print(\"Hello! How can I assist you today?\")\n",
        "            get_phone_number()\n",
        "            continue\n",
        "\n",
        "        print(f\"\\nYou asked: {user_input}\")\n",
        "        answer = get_answer(user_input)\n",
        "        print(f\"Answer: {answer}\")\n",
        "\n",
        "ask_question()\n"
      ],
      "metadata": {
        "colab": {
          "base_uri": "https://localhost:8080/"
        },
        "id": "9L2SRYJlTkYu",
        "outputId": "beda9531-6c78-49f6-a9aa-e66408360f10"
      },
      "execution_count": null,
      "outputs": [
        {
          "output_type": "stream",
          "name": "stdout",
          "text": [
            "Welcome to Yardstick Software Solutions.\n",
            "You are connected to a Bot Agent, Type Your Query! Hello\n",
            "Hello! How can I assist you today?\n",
            "Please enter your phone number: 8558074708\n",
            "Thank you for providing your phone number.\n",
            "You are connected to a Bot Agent, Type Your Query! What services does Yardstick Software Solutions provide?\n",
            "\n",
            "You asked: What services does Yardstick Software Solutions provide?\n",
            "Answer: Yardstick Software Solutions offers customized software solutions including app development, data analytics, and cloud services.\n",
            "You are connected to a Bot Agent, Type Your Query! How can I get started with your services?\n",
            "\n",
            "You asked: How can I get started with your services?\n",
            "Answer: To get started, contact us via our website, schedule a consultation, and we'll provide a proposal.\n",
            "You are connected to a Bot Agent, Type Your Query! How do you ensure software quality?\n",
            "\n",
            "You asked: How do you ensure software quality?\n",
            "Answer: We ensure software quality through rigorous testing (unit, integration, UAT) and agile development for iterative improvements.\n"
          ]
        }
      ]
    },
    {
      "cell_type": "markdown",
      "source": [],
      "metadata": {
        "id": "6Xs4bBOKUOy6"
      }
    },
    {
      "cell_type": "markdown",
      "source": [
        "I Was tasked with integrating the OpenAI API for this project. However, upon attempting to use the API, I encountered access restrictions due to the paid nature of the service and was unable to obtain the necessary API key. Given these constraints, I proceeded with an alternative technique that involved utilizing Pinecone for vector indexing and Hugging Face's RoBERTa model for question answering. This approach allows me to generate vector embeddings for questions and store them in Pinecone, which is then queried to retrieve the most relevant answer.\n",
        "\n",
        "By using this method, I was able to continue developing the Q&A bot while meeting the project’s core objectives without relying on paid API services. **bold text** **bold text**"
      ],
      "metadata": {
        "id": "HJvwRumqUPlU"
      }
    }
  ]
}